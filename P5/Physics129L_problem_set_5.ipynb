{
 "cells": [
  {
   "cell_type": "markdown",
   "id": "461bb66f",
   "metadata": {},
   "source": [
    "<div style=\"text-align: center;\">\n",
    "    <h1><strong>Physics 129L: Problem Set 5</strong></h1>\n",
    "</div>"
   ]
  },
  {
   "cell_type": "markdown",
   "id": "8db292cd",
   "metadata": {},
   "source": [
    "<div style=\"text-align: center;\">\n",
    "    <h3><strong>Problem Set Submission Guideline</strong></h3>\n",
    "</div>\n",
    "\n",
    "**A) Github Submissions**\n",
    "We will use GitHub for problem set submissions. To access the problem set, please **fork** and **clone** the **forked** repository to your local virtual machine. **Please complete the problem set in this forked directory.** Submit **a pull request** for merging into the main branch before the problem set due date.\n",
    "\n",
    "**B) .tar.gz File compression and submission on Github**\n",
    "For each problem set, you are asked to submit the compressed version of the problem set to GitHub via git operation. Here is a step-by-step guideline:\n",
    "\n",
    "1. Use the **tar** command to compress the problem set directory into a **single** \".tar.gz\" file.\n",
    "2. Obtain the sha256sum by running \"sha256sum P2.tar.gz\".\n",
    "3. Echo the **full sha256sum** to a text file named \"sha25sum_problem_set.txt\".\n",
    "4. Initialize a git repository named \"Archive_P# (#: problem set number) on your local machine, and move both the \"tar.gz\" file and the \"sha25sum_problem_set.txt\" file to the repository.\n",
    "5. Create an empty **public** directory under the **same name** in **your own GitHub account**.\n",
    "6. **Push** this local repository to the remote repository.\n"
   ]
  },
  {
   "cell_type": "markdown",
   "id": "ba7da1e9",
   "metadata": {},
   "source": [
    "<div style=\"text-align: center;\">\n",
    "    <h3><strong>Imports and built-in functions</strong></h3>\n",
    "</div>"
   ]
  },
  {
   "cell_type": "code",
   "execution_count": 1,
   "id": "773c4273",
   "metadata": {},
   "outputs": [],
   "source": [
    "import numpy as np\n",
    "\n",
    "#Import in-built functions for different integration techniques\n",
    "#For reference: https://docs.scipy.org/doc/scipy/reference/integrate.html\n",
    "\n",
    "from scipy.integrate import quad, fixed_quad, romberg, dblquad\n",
    "\n",
    "#For plotting\n",
    "\n",
    "import matplotlib.pyplot as plt\n",
    "%matplotlib inline"
   ]
  },
  {
   "cell_type": "markdown",
   "id": "40607247",
   "metadata": {},
   "source": [
    "<div style=\"text-align: center;\">\n",
    "    <h2><strong>Problem 1: Quadrature </strong></h2>\n",
    "</div>\n",
    "Let's looked at different quadrature methods and rules. \n",
    "\n",
    "\n",
    "<div style=\"text-align: center;\">\n",
    "    <h2><strong> Midpoint rule </strong></h2>\n",
    "</div>\n",
    "$$\\int_{a}^{b} f(x) \\, dx \\approx (b - a) \\cdot f\\left(\\frac{a + b}{2}\\right)\n",
    "$$\n",
    "\n",
    "<div style=\"text-align: center;\">\n",
    "    <h2><strong> Trapezoidal Rule  </strong></h2>\n",
    "</div>\n",
    "\n",
    "$$\\int_{a}^{b} f(x) \\, dx \\approx \\frac{b - a}{2} \\left[ f(a) + f(b) \\right]$$\n",
    "\n",
    "<div style=\"text-align: center;\">\n",
    "    <h2><strong> Simpson's Rule </strong></h2>\n",
    "</div>\n",
    "$$\\int_{a}^{b} f(x) \\, dx \\approx \\frac{b - a}{3} \\left[ f(a) + 4f\\left(\\frac{a + b}{2}\\right) + f(b) \\right]$$\n"
   ]
  },
  {
   "cell_type": "markdown",
   "id": "f0dfe677",
   "metadata": {},
   "source": [
    "## A) \n",
    "Define a class for all quadrature techniques."
   ]
  },
  {
   "cell_type": "code",
   "execution_count": 2,
   "id": "580ec43e",
   "metadata": {},
   "outputs": [],
   "source": [
    "class Quad:\n",
    "    def __init__(self, func, N, a, b):\n",
    "        '''The class Quad takes four inputs: \n",
    "         fuc: a function input,\n",
    "         N: number of grid points,\n",
    "         a,b: left and right points'''\n",
    "        self.func = func\n",
    "        self.N = N\n",
    "        self.a = a\n",
    "        self.b = b\n",
    "        self.dx = (b - a) / N    "
   ]
  },
  {
   "cell_type": "markdown",
   "id": "6358ed18",
   "metadata": {},
   "source": [
    "## B) \n",
    "Write the above three quadrature rules as class methods **without any pre-defined function from any package** 1)  Midpoint rule 2) Trapezoidal Rule 3) Simpson's Rule. You need to figure out what additional inputs each rule needs. "
   ]
  },
  {
   "cell_type": "code",
   "execution_count": 3,
   "id": "879242fb",
   "metadata": {},
   "outputs": [],
   "source": [
    "class Quad:\n",
    "    def __init__(self, func, N, a, b):\n",
    "        self.func = func\n",
    "        self.N = N\n",
    "        self.a = a\n",
    "        self.b = b\n",
    "        self.dx = (b - a) / N\n",
    "\n",
    "    def midpoint_rule(self):\n",
    "        integral = 0\n",
    "        for i in range(self.N):\n",
    "            xi = self.a + (i + 0.5) * self.dx\n",
    "            integral += self.func(xi)\n",
    "        integral *= self.dx\n",
    "        return integral\n",
    "\n",
    "    def trapezoid_rule(self):\n",
    "        integral = 0\n",
    "        for i in range(1, self.N):\n",
    "            xi = self.a + i * self.dx\n",
    "            integral += 2 * self.func(xi)\n",
    "        integral += self.func(self.a) + self.func(self.b)\n",
    "        integral *= 0.5 * self.dx\n",
    "        return integral\n",
    "\n",
    "    def simpson_rule(self):\n",
    "        if self.N % 2 != 0:\n",
    "            raise ValueError(\"N must be even for Simpson's rule\")\n",
    "\n",
    "        integral = self.func(self.a) + self.func(self.b)\n",
    "\n",
    "        for i in range(1, self.N, 2):\n",
    "            xi = self.a + i * self.dx\n",
    "            integral += 4 * self.func(xi)\n",
    "\n",
    "        for i in range(2, self.N - 1, 2):\n",
    "            xi = self.a + i * self.dx\n",
    "            integral += 2 * self.func(xi)\n",
    "\n",
    "        integral *= self.dx / 3\n",
    "        return integral"
   ]
  },
  {
   "cell_type": "markdown",
   "id": "1a39868e",
   "metadata": {},
   "source": [
    "<div style=\"text-align: center;\">\n",
    "    <h3><strong> Gauss-Legendre Quadrature </strong></h3>\n",
    "</div>\n",
    "\n",
    "$$\\int_{-1}^{1} f(x) \\, dx \\approx \\sum_{i=1}^{N} w_i \\cdot f(x_i)$$\n"
   ]
  },
  {
   "cell_type": "markdown",
   "id": "16b57c68",
   "metadata": {},
   "source": [
    "## C)\n",
    "Since the range is from a to b, let's make a variable change,\n",
    "$$x_i \\to \\frac{b - a}{2} x_i + \\frac{a + b}{2}$$\n",
    "\n",
    "to get\n",
    "\n",
    "$$\\int_{a}^b f(x)dx = \\frac{b-a}{2} \\sum_i w_i f(\\frac{b - a}{2} x_i + \\frac{a + b}{2})$$ where a = -1 and b = 1."
   ]
  },
  {
   "cell_type": "markdown",
   "id": "bba288ba",
   "metadata": {},
   "source": [
    "<div style=\"text-align: center;\">\n",
    "    <h3><strong> Legendre polynomials </strong></h3>\n",
    "</div>\n",
    "To find the position and weights of an order M Gauss-Legendre Quadrature, we need to calculate the roots of an order-M Legendre polynomial,\n",
    "$$(1 - x^2) \\frac{d^2 P_M(x)}{dx^2} - 2x \\frac{dP_M(x)}{dx} + M(M + 1)P_M(x) = 0,\n",
    "$$\n",
    "and the solutions are given by the following:  \n",
    "$$P_M(x) = \\frac{1}{2^n n!} \\frac{d^M}{dx^M} \\left[(x^2 - 1)^M\\right]$$"
   ]
  },
  {
   "cell_type": "markdown",
   "id": "5769e75c",
   "metadata": {},
   "source": [
    "## D)\n",
    "Write a child class named Gauss_Quad_ inherits methods from its parent class Quad_. This class takes an additional input, called order. Define a new method that outputs an order-M Legendre polynomial. Plot the following Legendre polynomials: M=[1,2,3,4,5]. "
   ]
  },
  {
   "cell_type": "code",
   "execution_count": 5,
   "id": "3cf2dc63",
   "metadata": {},
   "outputs": [
    {
     "data": {
      "image/png": "[encoded data removed]",
      "text/plain": [
       "<Figure size 432x288 with 1 Axes>"
      ]
     },
     "metadata": {
      "needs_background": "light"
     },
     "output_type": "display_data"
    }
   ],
   "source": [
    "import numpy as np\n",
    "import matplotlib.pyplot as plt\n",
    "from scipy.special import legendre\n",
    "\n",
    "class Gauss_Quad:\n",
    "    def __init__(self, order):\n",
    "        self.order = order\n",
    "\n",
    "    def legendre_polynomial(self, M):\n",
    "        x = np.linspace(-1, 1, 1000)\n",
    "        P = legendre(M)\n",
    "        return P(x)\n",
    "\n",
    "    def plot_legendre_polynomials(self):\n",
    "        for M in self.order:\n",
    "            legendre_poly = self.legendre_polynomial(M)\n",
    "            plt.plot(np.linspace(-1, 1, 1000), legendre_poly, label=f'M={M}')\n",
    "\n",
    "        plt.xlabel('x')\n",
    "        plt.ylabel('Legendre Polynomial')\n",
    "        plt.title('Legendre Polynomials')\n",
    "        plt.legend()\n",
    "        plt.grid(True)\n",
    "        plt.show()\n",
    "\n",
    "# Example usage:\n",
    "orders = [1, 2, 3, 4, 5]\n",
    "quad_instance = Gauss_Quad(orders)\n",
    "quad_instance.plot_legendre_polynomials()"
   ]
  },
  {
   "cell_type": "markdown",
   "id": "8f0bea5b",
   "metadata": {},
   "source": [
    "<div style=\"text-align: center;\">\n",
    "    <h3><strong> Newton's Method </strong></h3>\n",
    "</div>\n",
    "The positions of an order M Gauss-Legendre Quadrature are calculated by finding roots of an order-M Legendre polynomial,\n",
    " <br>  <br> \n",
    "$$P_M(x)=0.$$\n",
    " <br> \n",
    "To numerically find those roots (M of them), we can use the Newton's method: \n",
    " <br> \n",
    "$$x_{n+1} = x_{n} - \\frac{P_M(x_{n})}{P_M'(x_{n})}.$$\n",
    "You should be careful on the initial guess.\n",
    " <br> \n",
    "The weights $w_i$ for Gauss-Legendre Quadrature are calculated as:\n",
    "$$w_i = \\frac{2}{(1 - x_i^2) [P'_M(x_i)]^2}$$\n",
    "where $P'_M(x_i)$ is the derivative of the Legendre polynomial of degree M evaluated at each root $x_i$. "
   ]
  },
  {
   "cell_type": "markdown",
   "id": "3c49d271",
   "metadata": {},
   "source": [
    "## E) \n",
    " Calculate 'M' position and weights for Gaussian quadrature integration between 'a' and 'b' with the Newton's method. Returns a tuple of 2 arrays, the first array is the position of points and second array is the corresponding weights. Output an text file that contains the roots and weights for M=[1,2,3,4,5]. "
   ]
  },
  {
   "cell_type": "code",
   "execution_count": 5,
   "id": "fbce233e",
   "metadata": {},
   "outputs": [
    {
     "name": "stdout",
     "output_type": "stream",
     "text": [
      "[1, 2, 3, 4, 5]\n",
      "[[0.0], [0.5773502691896257, -0.577350269189626], [0.7745966692414834, 0.0, -0.7745966692414833], [0.8611363115940526, 0.33998104358485626, -0.3399810435848562, -0.8611363115940526], [0.906179845938664, 0.5384693101056831, -4.930380657631324e-32, -0.538469310105683, -0.906179845938664]]\n",
      "[[2.0], [1.0, 0.9999999999999996], [0.5555555555555554, 0.8888888888888887, 0.5555555555555557], [0.34785484513745396, 0.6521451548625461, 0.6521451548625455, 0.34785484513745435], [0.23692688505618925, 0.47862867049936625, 0.5688888888888888, 0.4786286704993666, 0.23692688505618917]]\n"
     ]
    }
   ],
   "source": [
    "import numpy as np\n",
    "from scipy.special import legendre\n",
    "from scipy.misc import derivative\n",
    "\n",
    "class Gauss_Quad:\n",
    "    def __init__(self, order):\n",
    "        self.order = order\n",
    "\n",
    "    def legendre_polynomial(self, M):\n",
    "        x = np.linspace(-1, 1, 1000)\n",
    "        P = legendre(M)\n",
    "        return P(x)\n",
    "\n",
    "    def gauss_legendre_quadrature(self, M, a, b):\n",
    "        positions = []\n",
    "        all_weights = []\n",
    "\n",
    "        for m in M:\n",
    "            P_M = legendre(m)\n",
    "            P_M_prime = P_M.deriv()\n",
    "\n",
    "            roots = self.newton_method(P_M, P_M_prime, m)\n",
    "            \n",
    "            # Calculate the weights\n",
    "            weights = [2 / ((1 - x**2) * P_M_prime(x)**2) for x in roots]\n",
    "            \n",
    "            positions.append(roots)\n",
    "            all_weights.append(weights)\n",
    "        \n",
    "        return positions, all_weights\n",
    "\n",
    "    def newton_method(self, P_M, P_M_prime, m):\n",
    "        roots = []\n",
    "        for i in range(1, m+1):\n",
    "            x0 = np.cos((4*i-1)*np.pi / (4*m+2))\n",
    "            while True:\n",
    "                f_x = P_M(x0)\n",
    "                f_prime_x = P_M_prime(x0)\n",
    "                x1 = x0 - f_x / f_prime_x\n",
    "                if abs(x1 - x0) < 1e-10:\n",
    "                    roots.append(x1)\n",
    "                    break\n",
    "                x0 = x1\n",
    "        return roots\n",
    "\n",
    "    def save_quadrature_data_to_file(self, M_values, positions, weights, filename):\n",
    "        with open(filename, 'w') as file:\n",
    "            for i, M in enumerate(M_values):\n",
    "                file.write(f\"M = {M}\\n\")\n",
    "                for j in range(len(positions[i])):\n",
    "                    file.write(f\"Root {j+1}: {positions[i][j]}, Weight: {weights[i][j]}\\n\")\n",
    "                file.write(\"\\n\")\n",
    "\n",
    "orders = [1, 2, 3, 4, 5]\n",
    "a = -1  # Left endpoint of the integration interval\n",
    "b = 1   # Right endpoint of the integration interval\n",
    "\n",
    "quad_instance = Gauss_Quad(orders)\n",
    "positions, weights = quad_instance.gauss_legendre_quadrature(orders, a, b)\n",
    "quad_instance.save_quadrature_data_to_file(orders, positions, weights, \"gauss_legendre_quadrature.txt\")\n",
    "\n",
    "print(orders)\n",
    "print(positions)\n",
    "print(weights)"
   ]
  },
  {
   "cell_type": "markdown",
   "id": "954b3562",
   "metadata": {},
   "source": [
    "## F) \n",
    "Using the the following information,\n",
    "https://docs.scipy.org/doc/scipy/reference/generated/scipy.special.roots_legendre.html\n",
    ", calculate the roots and weights for M=[1,2,3,4,5]. Do they agree with what you calculate in E)?  "
   ]
  },
  {
   "cell_type": "code",
   "execution_count": 11,
   "id": "93636d3a",
   "metadata": {
    "scrolled": true
   },
   "outputs": [
    {
     "name": "stdout",
     "output_type": "stream",
     "text": [
      "Legendre Polynomial M=1:\n",
      "Roots: [0.]\n",
      "Weights: [2.]\n",
      "\n",
      "Legendre Polynomial M=2:\n",
      "Roots: [-0.57735027  0.57735027]\n",
      "Weights: [1. 1.]\n",
      "\n",
      "Legendre Polynomial M=3:\n",
      "Roots: [-0.77459667  0.          0.77459667]\n",
      "Weights: [0.55555556 0.88888889 0.55555556]\n",
      "\n",
      "Legendre Polynomial M=4:\n",
      "Roots: [-0.86113631 -0.33998104  0.33998104  0.86113631]\n",
      "Weights: [0.34785485 0.65214515 0.65214515 0.34785485]\n",
      "\n",
      "Legendre Polynomial M=5:\n",
      "Roots: [-0.90617985 -0.53846931  0.          0.53846931  0.90617985]\n",
      "Weights: [0.23692689 0.47862867 0.56888889 0.47862867 0.23692689]\n",
      "\n"
     ]
    }
   ],
   "source": [
    "from scipy.special import roots_legendre\n",
    "\n",
    "M_values = [1, 2, 3, 4, 5]\n",
    "\n",
    "roots_and_weights = [roots_legendre(M) for M in M_values]\n",
    "\n",
    "for M, (roots, weights) in zip(M_values, roots_and_weights):\n",
    "    print(f\"Legendre Polynomial M={M}:\")\n",
    "    print(\"Roots:\", roots)\n",
    "    print(\"Weights:\", weights)\n",
    "    print()"
   ]
  },
  {
   "cell_type": "markdown",
   "id": "7a1cb7c0",
   "metadata": {},
   "source": [
    "Our calculated values for the roots and weights for M = [1, 2, 3, 4, 5] are consistant "
   ]
  },
  {
   "cell_type": "markdown",
   "id": "51ed9d1e",
   "metadata": {},
   "source": [
    "## G)\n",
    "Based on the roots and weights, write a method that output the Gauss-Legendre Quadrature. "
   ]
  },
  {
   "cell_type": "code",
   "execution_count": 6,
   "id": "65398b6c",
   "metadata": {},
   "outputs": [
    {
     "name": "stdout",
     "output_type": "stream",
     "text": [
      "Integral for Legendre Polynomial M=1: [0.]\n",
      "Integral for Legendre Polynomial M=2: [0.66666667 0.66666667]\n",
      "Integral for Legendre Polynomial M=3: [0.66666667 1.06666667 0.66666667]\n",
      "Integral for Legendre Polynomial M=4: [0.59632259 1.11796312 1.11796312 0.59632259]\n",
      "Integral for Legendre Polynomial M=5: [0.52650419 1.06361927 1.26419753 1.06361927 0.52650419]\n"
     ]
    }
   ],
   "source": [
    "import numpy as np\n",
    "from scipy.special import roots_legendre\n",
    "\n",
    "class Gauss_Quad:\n",
    "    def __init__(self):\n",
    "        self.order = None\n",
    "        self.func = None\n",
    "\n",
    "    def set_order(self, order):\n",
    "        self.order = order\n",
    "\n",
    "    def set_function(self, func):\n",
    "        self.func = func\n",
    "\n",
    "    def legendre_polynomial(self, M):\n",
    "        x = np.linspace(-1, 1, 1000)\n",
    "        P = legendre(M)\n",
    "        return P(x)\n",
    "\n",
    "    def gauss_legendre_quadrature(self, M, a, b):\n",
    "        positions = []\n",
    "        weights = []\n",
    "\n",
    "        for m in M:\n",
    "            roots, w = roots_legendre(m)\n",
    "            positions.append(roots)\n",
    "            weights.append(w)\n",
    "\n",
    "        return positions, weights\n",
    "\n",
    "    def gauss_legendre_integral(self, M, a, b):\n",
    "        if self.func is None:\n",
    "            raise ValueError(\"Function 'func' is not set. Use set_function to set the function.\")\n",
    "        \n",
    "        positions, weights = self.gauss_legendre_quadrature(M, a, b)\n",
    "\n",
    "        integrals = []\n",
    "        for i, m in enumerate(M):\n",
    "            integral = sum(weights[i] * self.func((b - a) * x / 2 + (a + b) / 2) for x in positions[i])\n",
    "            integrals.append(integral)\n",
    "\n",
    "        return integrals\n",
    "\n",
    "def f(x):\n",
    "    return x**2\n",
    "\n",
    "orders = [1, 2, 3, 4, 5]\n",
    "a = -1  # Left endpoint of the integration interval\n",
    "b = 1   # Right endpoint of the integration interval\n",
    "\n",
    "quad_instance = Gauss_Quad()\n",
    "quad_instance.set_order(orders)\n",
    "quad_instance.set_function(f)\n",
    "integrals = quad_instance.gauss_legendre_integral(orders, a, b)\n",
    "\n",
    "for i, M in enumerate(orders):\n",
    "    print(f\"Integral for Legendre Polynomial M={M}: {integrals[i]}\")"
   ]
  },
  {
   "cell_type": "markdown",
   "id": "d2e40a2c",
   "metadata": {},
   "source": [
    "<div style=\"text-align: center;\">\n",
    "    <h3><strong> Quadrature on test functions </strong></h3>\n",
    "</div>\n",
    "\n",
    "In the following question, we want to Use the above four methods, mid_quad, trapz_quad, simpson_quad, gauss_quad, to numerically calculate the quarature on two test functions ($k\\geq 0)$\n",
    "\n",
    "A general k-th order polynomial with a quadrature, \n",
    "$$I^{\\rm T=A}_{\\rm true}=\\int_{a}^b dx x^k=\\frac{1}{k+1}(b^{k+1}-a^{k+1})$$\n",
    "\n",
    "A Fermi–Dirac distribution with a quadrature, \n",
    "$$I^{\\rm T=B}_{\\rm true}=\\int_{a}^b dx \\frac{1}{{1 + e^{-kx}}}=\\frac{1}{k}(\\log(e^{kb}+1)-\\log(e^{ka}+1))$$\n",
    "\n",
    "\n",
    "Let's define the following: for each order k and N, we have the quadrature value and the relative error,\n",
    "1) mid_quad: $M(k,N)$,<br><br> $\\Delta M(k,N)=2\\frac{I_{\\rm true}-M(k,N)}{I_{\\rm true}+M(k,N)}$,\n",
    "<br><br><br>\n",
    "2) trapz_quad: $T(k,N)$,<br><br> $\\Delta T(k,N)=2\\frac{I_{\\rm true}-T(k,N)}{I_{\\rm true}+T(k,N)}$,\n",
    "<br><br><br>\n",
    "3) simpson_quad: $S(k,N)$,<br><br> $\\Delta S(k,N)=2\\frac{I_{\\rm true}-S(k,N)}{I_{\\rm true}+S(k,N)}$,\n",
    "<br><br><br>\n",
    "4) gauss_quad: $G(k,N)$,<br><br> $\\Delta G(k,N)=2\\frac{I_{\\rm true}-G(k,N)}{I_{\\rm true}+G(k,N)}$,\n",
    "\n",
    "Let's make the following heatmap for each quadrature method above, 1-4), over the range $[0,1]$: \n",
    "\n",
    "y-axis: k from 0 to 10\n",
    "\n",
    "x-axis: N from 10 to $10^5$\n",
    "\n",
    "value: relative error\n",
    "\n",
    "\n"
   ]
  },
  {
   "cell_type": "markdown",
   "id": "0e52c04d",
   "metadata": {},
   "source": [
    "## H) Polynomial\n",
    "\n",
    "\n",
    "\n"
   ]
  },
  {
   "cell_type": "code",
   "execution_count": 4,
   "id": "cba28cf4",
   "metadata": {},
   "outputs": [
    {
     "name": "stderr",
     "output_type": "stream",
     "text": [
      "/var/folders/r0/yh777dl94dbcjct2hckw5p8c0000gn/T/ipykernel_27082/2708135184.py:74: UserWarning: This figure includes Axes that are not compatible with tight_layout, so results might be incorrect.\n",
      "  plt.tight_layout()\n"
     ]
    },
    {
     "data": {
      "image/png": "[encoded data removed]",
      "text/plain": [
       "<Figure size 864x720 with 5 Axes>"
      ]
     },
     "metadata": {
      "needs_background": "light"
     },
     "output_type": "display_data"
    }
   ],
   "source": [
    "import numpy as np\n",
    "import matplotlib.pyplot as plt\n",
    "from scipy.integrate import quad\n",
    "from scipy.interpolate import griddata\n",
    "\n",
    "# Function to calculate the true integral value for the given k\n",
    "def true_integral(k, a, b):\n",
    "    return quad(lambda x: x**k, a, b)[0]\n",
    "\n",
    "# Function to calculate the relative error\n",
    "def relative_error(true_value, approx_value):\n",
    "    return abs(2 * true_value - approx_value) / (true_value + approx_value)\n",
    "\n",
    "# Function to calculate the quadrature value for a given method, order (k), and number of points (N)\n",
    "def calculate_quadrature(method, k, N):\n",
    "    # Define the test function\n",
    "    test_function = lambda x: x**k\n",
    "\n",
    "    # Calculate the true integral value\n",
    "    true_value = true_integral(k, 0, 1)\n",
    "\n",
    "    # Calculate the quadrature value\n",
    "    if method == 'mid_quad':\n",
    "        approx_value = 0.5 * (1 / N) * sum(test_function((2 * i + 1) / (2 * N)) for i in range(N))\n",
    "    elif method == 'trapz_quad':\n",
    "        approx_value = (1 / N) * (0.5 * test_function(0) + sum(test_function(i / N) for i in range(1, N)) + 0.5 * test_function(1))\n",
    "    elif method == 'simpson_quad':\n",
    "        h = 1 / N\n",
    "        approx_value = (h / 3) * (test_function(0) + 4 * sum(test_function((2 * i - 1) / (2 * N)) for i in range(1, N)) + 2 * sum(test_function(i / N) for i in range(1, N - 1)) + test_function(1))\n",
    "    elif method == 'gauss_quad':\n",
    "        nodes, weights = np.polynomial.legendre.leggauss(N)\n",
    "        approx_value = sum(w * test_function(x) for x, w in zip(nodes, weights))\n",
    "    else:\n",
    "        raise ValueError(\"Invalid method\")\n",
    "\n",
    "    # Calculate the relative error\n",
    "    error = relative_error(true_value, approx_value)\n",
    "\n",
    "    return error\n",
    "\n",
    "# Generate data for the heatmap\n",
    "k_values = np.arange(0, 11, 1)\n",
    "N_values = np.arange(10, 106, 5)\n",
    "\n",
    "methods = ['mid_quad', 'trapz_quad', 'simpson_quad', 'gauss_quad']\n",
    "\n",
    "# Create a meshgrid for k and N values\n",
    "k_mesh, N_mesh = np.meshgrid(k_values, N_values)\n",
    "\n",
    "# Initialize arrays to store relative errors for each method\n",
    "errors = {method: np.zeros_like(k_mesh, dtype=float) for method in methods}\n",
    "\n",
    "# Calculate relative errors for each method\n",
    "for method in methods:\n",
    "    for i, k in enumerate(k_values):\n",
    "        for j, N in enumerate(N_values):\n",
    "            errors[method][j, i] = calculate_quadrature(method, k, N)\n",
    "\n",
    "# Plot the heatmaps\n",
    "fig, axes = plt.subplots(2, 2, figsize=(12, 10))\n",
    "\n",
    "for i, method in enumerate(methods):\n",
    "    ax = axes[i // 2, i % 2]\n",
    "    c = ax.contourf(N_mesh, k_mesh, errors[method], cmap='viridis', levels=20)\n",
    "    ax.set_title(f'Relative Error - {method}')\n",
    "    ax.set_xlabel('N')\n",
    "    ax.set_ylabel('k')\n",
    "\n",
    "# Move colorbar to the right\n",
    "cbar_ax = fig.add_axes([1.10, 0.15, 0.02, 0.7])  # [x, y, width, height]\n",
    "cbar = fig.colorbar(c, cax=cbar_ax)\n",
    "cbar.set_label('Relative Error')\n",
    "\n",
    "plt.tight_layout()\n",
    "plt.show()"
   ]
  },
  {
   "cell_type": "markdown",
   "id": "40bd757e",
   "metadata": {},
   "source": [
    "## H) Fermi–Dirac\n"
   ]
  },
  {
   "cell_type": "code",
   "execution_count": 5,
   "id": "1870eefb",
   "metadata": {},
   "outputs": [
    {
     "name": "stderr",
     "output_type": "stream",
     "text": [
      "/var/folders/r0/yh777dl94dbcjct2hckw5p8c0000gn/T/ipykernel_27082/1677359849.py:8: RuntimeWarning: divide by zero encountered in long_scalars\n",
      "  return 1 / k * (np.log(np.exp(k * b) + 1) - np.log(np.exp(k * a) + 1))\n",
      "/var/folders/r0/yh777dl94dbcjct2hckw5p8c0000gn/T/ipykernel_27082/1677359849.py:8: RuntimeWarning: invalid value encountered in double_scalars\n",
      "  return 1 / k * (np.log(np.exp(k * b) + 1) - np.log(np.exp(k * a) + 1))\n"
     ]
    },
    {
     "data": {
      "image/png": "[encoded data removed]",
      "text/plain": [
       "<Figure size 864x720 with 4 Axes>"
      ]
     },
     "metadata": {
      "needs_background": "light"
     },
     "output_type": "display_data"
    }
   ],
   "source": [
    "import numpy as np\n",
    "import matplotlib.pyplot as plt\n",
    "from scipy.integrate import quad\n",
    "from scipy.interpolate import griddata\n",
    "\n",
    "# Function to calculate the true integral value for the Fermi-Dirac distribution\n",
    "def true_integral_fd(k, a, b):\n",
    "    return 1 / k * (np.log(np.exp(k * b) + 1) - np.log(np.exp(k * a) + 1))\n",
    "\n",
    "# Function to calculate the relative error\n",
    "def relative_error_fd(true_value, approx_value):\n",
    "    return abs(2 * true_value - approx_value) / (true_value + approx_value)\n",
    "\n",
    "# Function to calculate the quadrature value for a given method, order (k), and number of points (N) for the Fermi-Dirac distribution\n",
    "def calculate_quadrature_fd(method, k, N):\n",
    "    # Define the Fermi-Dirac distribution\n",
    "    fd_distribution = lambda x: 1 / (1 + np.exp(-k * x))\n",
    "\n",
    "    # Calculate the true integral value for the Fermi-Dirac distribution\n",
    "    true_value_fd = true_integral_fd(k, 0, 1)\n",
    "\n",
    "    # Calculate the quadrature value\n",
    "    if method == 'mid_quad':\n",
    "        approx_value_fd = 0.5 * (1 / N) * sum(fd_distribution((2 * i + 1) / (2 * N)) for i in range(N))\n",
    "    elif method == 'trapz_quad':\n",
    "        approx_value_fd = (1 / N) * (0.5 * fd_distribution(0) + sum(fd_distribution(i / N) for i in range(1, N)) + 0.5 * fd_distribution(1))\n",
    "    elif method == 'simpson_quad':\n",
    "        h = 1 / N\n",
    "        approx_value_fd = (h / 3) * (fd_distribution(0) + 4 * sum(fd_distribution((2 * i - 1) / (2 * N)) for i in range(1, N)) + 2 * sum(fd_distribution(i / N) for i in range(1, N - 1)) + fd_distribution(1))\n",
    "    elif method == 'gauss_quad':\n",
    "        nodes, weights = np.polynomial.legendre.leggauss(N)\n",
    "        approx_value_fd = sum(w * fd_distribution(x) for x, w in zip(nodes, weights))\n",
    "    else:\n",
    "        raise ValueError(\"Invalid method\")\n",
    "\n",
    "    # Calculate the relative error for the Fermi-Dirac distribution\n",
    "    error_fd = relative_error_fd(true_value_fd, approx_value_fd)\n",
    "\n",
    "    return error_fd\n",
    "\n",
    "# Generate data for the heatmap for the Fermi-Dirac distribution\n",
    "k_values_fd = np.arange(0, 11, 1)\n",
    "N_values_fd = np.arange(10, 106, 5)\n",
    "\n",
    "methods_fd = ['mid_quad', 'trapz_quad', 'simpson_quad', 'gauss_quad']\n",
    "\n",
    "# Create a meshgrid for k and N values for the Fermi-Dirac distribution\n",
    "k_mesh_fd, N_mesh_fd = np.meshgrid(k_values_fd, N_values_fd)\n",
    "\n",
    "# Initialize arrays to store relative errors for each method for the Fermi-Dirac distribution\n",
    "errors_fd = {method: np.zeros_like(k_mesh_fd, dtype=float) for method in methods_fd}\n",
    "\n",
    "# Calculate relative errors for each method for the Fermi-Dirac distribution\n",
    "for method in methods_fd:\n",
    "    for i, k_fd in enumerate(k_values_fd):\n",
    "        for j, N_fd in enumerate(N_values_fd):\n",
    "            errors_fd[method][j, i] = calculate_quadrature_fd(method, k_fd, N_fd)\n",
    "\n",
    "# Plot the heatmaps for the Fermi-Dirac distribution\n",
    "fig_fd, axes_fd = plt.subplots(2, 2, figsize=(12, 10))\n",
    "\n",
    "for i, method_fd in enumerate(methods_fd):\n",
    "    ax_fd = axes_fd[i // 2, i % 2]\n",
    "    c_fd = ax_fd.contourf(N_mesh_fd, k_mesh_fd, errors_fd[method_fd], cmap='viridis', levels=20)\n",
    "    ax_fd.set_title(f'Relative Error - {method_fd}')\n",
    "    ax_fd.set_xlabel('N')\n",
    "    ax_fd.set_ylabel('k')\n",
    "\n",
    "# Move colorbar to the right\n",
    "cbar_ax = fig.add_axes([1.10, 0.15, 0.02, 0.7])  # [x, y, width, height]\n",
    "cbar = fig.colorbar(c, cax=cbar_ax)\n",
    "cbar.set_label('Relative Error')\n",
    "\n",
    "plt.tight_layout()\n",
    "plt.show()"
   ]
  },
  {
   "cell_type": "markdown",
   "id": "b03e4fdb",
   "metadata": {},
   "source": [
    "<div style=\"text-align: center;\">\n",
    "    <h2><strong> Harmonic Oscillator </strong></h2>\n",
    "</div>\n",
    "\n",
    "This question is adapted from Prof.Uros Seljak (Berkeley) problem set 1 question 1. For more information, please visit https://phy151-ucb.github.io/seljak-phy151-fall-2018/#course-syllabus\n",
    "\n",
    "\n",
    "The total energy of a harmonic oscillator is given by <br>\n",
    "$$ E = \\frac{1}{2}m \\left(\\frac{dx}{dt}\\right)^2 + V(x) $$\n",
    "Assuming that the potential $V(x)$ is symmetric about $x=0$ and the amplitude of the oscillator is $a$. Then the equation for the time period is given by <br>\n",
    "$$ T = \\sqrt{8m} \\int_0^a \\frac{dx}{\\sqrt{V(a) - V(x)}} $$\n"
   ]
  },
  {
   "cell_type": "markdown",
   "id": "6b41ebd0",
   "metadata": {},
   "source": [
    "## A)\n",
    "Suppose the potential is $V(x) = x^4$ and mass of the particle $m=1$, write a function that calculates the period for a given amplitude."
   ]
  },
  {
   "cell_type": "code",
   "execution_count": 6,
   "id": "85605206",
   "metadata": {},
   "outputs": [],
   "source": [
    "import numpy as np\n",
    "from scipy.integrate import quad\n",
    "\n",
    "def V(x):\n",
    "    return x**4\n",
    "\n",
    "def calculate_period(amplitude):\n",
    "    m = 1  # Mass of the pendulum (given as 1)\n",
    "    \n",
    "    # Define the integrand function\n",
    "    def integrand(x):\n",
    "        return 1 / np.sqrt(V(amplitude) - V(x))\n",
    "    \n",
    "    # Calculate the integral using quad\n",
    "    result, _ = quad(integrand, 0, amplitude)\n",
    "    \n",
    "    # Calculate the period\n",
    "    period = np.sqrt(8 * m) * result\n",
    "    return period"
   ]
  },
  {
   "cell_type": "markdown",
   "id": "15de39f8",
   "metadata": {},
   "source": [
    "## B) \n",
    "Let $a = 2$. Use inbuilt 'fixed_quad' (https://docs.scipy.org/doc/scipy-0.14.0/reference/generated/scipy.integrate.fixed_quad.html) function to calculate the time period for different values of 'N' (number of integration points). Calculate the error in the integral by estimating the difference for 'N' & '2N'. Approximately, at what 'N' is the absolute error less than $10^{-4}$ for 'a = 2'?"
   ]
  },
  {
   "cell_type": "code",
   "execution_count": 7,
   "id": "1c01c52f",
   "metadata": {},
   "outputs": [
    {
     "name": "stdout",
     "output_type": "stream",
     "text": [
      "For a = 2.0, N = 4096 gives an absolute error less than 10^-4.\n",
      "Calculated Period: 1.8539243854218708\n",
      "Absolute Error: 7.514166762412344e-05\n"
     ]
    }
   ],
   "source": [
    "import numpy as np\n",
    "from scipy.integrate import fixed_quad\n",
    "\n",
    "def V(x):\n",
    "    return x**4\n",
    "\n",
    "def integrand(x, amplitude):\n",
    "    return 1 / np.sqrt(V(amplitude) - V(x))\n",
    "\n",
    "def calculate_period_with_fixed_quad(amplitude, N):\n",
    "    m = 1  # Mass of the pendulum (given as 1)\n",
    "    a = 0.0  # Lower limit of integration\n",
    "\n",
    "    # Calculate the integral with N points\n",
    "    result_N, _ = fixed_quad(integrand, a, amplitude, n=N, args=(amplitude,))\n",
    "\n",
    "    # Calculate the integral with 2N points\n",
    "    result_2N, _ = fixed_quad(integrand, a, amplitude, n=2*N, args=(amplitude,))\n",
    "\n",
    "    # Calculate the period with N and 2N points\n",
    "    period_N = np.sqrt(8 * m) * result_N\n",
    "    period_2N = np.sqrt(8 * m) * result_2N\n",
    "\n",
    "    # Calculate the absolute error\n",
    "    absolute_error = np.abs(period_N - period_2N)\n",
    "\n",
    "    return period_N, absolute_error\n",
    "\n",
    "# Amplitude 'a' for which you want to calculate the period\n",
    "amplitude = 2.0\n",
    "target_absolute_error = 1e-4  # Target absolute error\n",
    "\n",
    "N = 1  # Start with N = 1\n",
    "while True:\n",
    "    period, absolute_error = calculate_period_with_fixed_quad(amplitude, N)\n",
    "    if absolute_error < target_absolute_error:\n",
    "        break\n",
    "    N *= 2\n",
    "\n",
    "print(f\"For a = {amplitude}, N = {N} gives an absolute error less than 10^-4.\")\n",
    "print(f\"Calculated Period: {period}\")\n",
    "print(f\"Absolute Error: {absolute_error}\")\n"
   ]
  },
  {
   "cell_type": "markdown",
   "id": "6ace5f54",
   "metadata": {},
   "source": [
    "## C) \n",
    "Use inbuilt 'quad' (https://docs.scipy.org/doc/scipy/reference/generated/scipy.integrate.quad.html) function that returns an error estimate and compare your answer for 'a = 2' (quad uses a more advanced integration technique)"
   ]
  },
  {
   "cell_type": "code",
   "execution_count": 26,
   "id": "d6a6b7a1",
   "metadata": {},
   "outputs": [
    {
     "name": "stdout",
     "output_type": "stream",
     "text": [
      "For a = 2.0, using 'quad' function:\n",
      "Calculated Period: 1.854074677301701\n",
      "Error Estimate: 7.0952e-11\n"
     ]
    }
   ],
   "source": [
    "import numpy as np\n",
    "from scipy.integrate import quad\n",
    "\n",
    "def V(x):\n",
    "    return x**4\n",
    "\n",
    "def integrand(x, amplitude):\n",
    "    return 1 / np.sqrt(V(amplitude) - V(x))\n",
    "\n",
    "def calculate_period_with_quad(amplitude):\n",
    "    m = 1  # Mass of the pendulum (given as 1)\n",
    "    a = 0.0  # Lower limit of integration\n",
    "\n",
    "    # Calculate the integral with quad\n",
    "    result, error_estimate = quad(integrand, a, amplitude, args=(amplitude,))\n",
    "\n",
    "    # Calculate the period\n",
    "    period = np.sqrt(8 * m) * result\n",
    "\n",
    "    return period, error_estimate\n",
    "\n",
    "# Amplitude 'a' for which you want to calculate the period\n",
    "amplitude = 2.0\n",
    "\n",
    "# Calculate the period and error estimate using quad\n",
    "period, error_estimate = calculate_period_with_quad(amplitude)\n",
    "\n",
    "print(f\"For a = {amplitude}, using 'quad' function:\")\n",
    "print(f\"Calculated Period: {period}\")\n",
    "print(f\"Error Estimate: {error_estimate:.4e}\")"
   ]
  },
  {
   "cell_type": "markdown",
   "id": "8d98f6a0",
   "metadata": {},
   "source": [
    " ## D) \n",
    "Calculate the time period by using the inbuilt romberg function (https://docs.scipy.org/doc/scipy/reference/generated/scipy.integrate.romberg.html) for Romberg integration. \n",
    "A simplistic usage with romberg(func, 0, a), where a is the amplitude, will probably give error or 'nan'. Why? "
   ]
  },
  {
   "cell_type": "code",
   "execution_count": 8,
   "id": "ddd1c63e",
   "metadata": {},
   "outputs": [
    {
     "name": "stdout",
     "output_type": "stream",
     "text": [
      "For a = 2.0, using 'romberg' function:\n",
      "Calculated Period: nan\n"
     ]
    },
    {
     "name": "stderr",
     "output_type": "stream",
     "text": [
      "/var/folders/r0/yh777dl94dbcjct2hckw5p8c0000gn/T/ipykernel_27082/561411334.py:8: RuntimeWarning: divide by zero encountered in double_scalars\n",
      "  return 1 / np.sqrt(V(amplitude) - V(x))\n",
      "/Users/MichaelCheng/opt/anaconda3/lib/python3.9/site-packages/scipy/integrate/_quadrature.py:718: RuntimeWarning: invalid value encountered in double_scalars\n",
      "  return (tmp * c - b)/(tmp - 1.0)\n",
      "/Users/MichaelCheng/opt/anaconda3/lib/python3.9/site-packages/scipy/integrate/_quadrature.py:849: AccuracyWarning: divmax (10) exceeded. Latest difference = nan\n",
      "  warnings.warn(\n"
     ]
    }
   ],
   "source": [
    "import numpy as np\n",
    "from scipy.integrate import romberg\n",
    "\n",
    "def V(x):\n",
    "    return x**4\n",
    "\n",
    "def integrand(x, amplitude):\n",
    "    return 1 / np.sqrt(V(amplitude) - V(x))\n",
    "\n",
    "def calculate_period_with_romberg(amplitude):\n",
    "    a = 0.0  # Lower limit of integration\n",
    "\n",
    "    # Use romberg to calculate the integral\n",
    "    period = romberg(integrand, a, amplitude, args=(amplitude,))\n",
    "\n",
    "    return period\n",
    "\n",
    "# Amplitude 'a' for which you want to calculate the period\n",
    "amplitude = 2.0\n",
    "\n",
    "# Calculate the period using Romberg integration\n",
    "period = calculate_period_with_romberg(amplitude)\n",
    "\n",
    "print(f\"For a = {amplitude}, using 'romberg' function:\")\n",
    "print(f\"Calculated Period: {period}\")"
   ]
  },
  {
   "cell_type": "markdown",
   "id": "d8517ab7",
   "metadata": {},
   "source": [
    "The issue with using the Romberg integration function is that the potential function, V(x), becomes infinite at the turning points of the harmonic oscillator. The Romberg integration method, as well as many other numerical integration techniques, can have difficulty handling functions with singularities or discontinuities."
   ]
  },
  {
   "cell_type": "markdown",
   "id": "b53e030b",
   "metadata": {},
   "source": [
    "## E) \n",
    "Assume that we can tolerate the uncertainitiy of $10^{-5}$ in the position. Show and output of 'keyword' show = True for 'a = 2'. Use this to estimate error for divmax = 10.\n"
   ]
  },
  {
   "cell_type": "code",
   "execution_count": 10,
   "id": "401a8191",
   "metadata": {},
   "outputs": [
    {
     "name": "stdout",
     "output_type": "stream",
     "text": [
      "For a = 2.0, using 'quad' function:\n",
      "Calculated Period: 1.8540746772715795\n",
      "Error Estimate: 1.7711e-06\n"
     ]
    }
   ],
   "source": [
    "import numpy as np\n",
    "from scipy.integrate import quad\n",
    "\n",
    "def V(x):\n",
    "    return x**4\n",
    "\n",
    "def calculate_period(amplitude, divmax=10, tolerance=1e-5):\n",
    "    m = 1  # Mass of the particle (given as 1)\n",
    "    \n",
    "    # Define the integrand function\n",
    "    def integrand(x):\n",
    "        return 1 / np.sqrt(V(amplitude) - V(x))\n",
    "    \n",
    "    # Calculate the integral using quad with specified parameters\n",
    "    result, error_estimate = quad(integrand, 0, amplitude, epsrel=tolerance, limit=divmax)\n",
    "    \n",
    "    # Calculate the period\n",
    "    period = np.sqrt(8 * m) * result\n",
    "    \n",
    "    return period, error_estimate\n",
    "\n",
    "# Amplitude 'a' for which you want to calculate the period\n",
    "amplitude = 2.0\n",
    "\n",
    "# Specify divmax and tolerance\n",
    "divmax = 10\n",
    "tolerance = 1e-5\n",
    "\n",
    "# Calculate the period and error estimate\n",
    "period, error_estimate = calculate_period(amplitude, divmax, tolerance)\n",
    "\n",
    "# Display the results\n",
    "print(f\"For a = {amplitude}, using 'quad' function:\")\n",
    "print(f\"Calculated Period: {period}\")\n",
    "print(f\"Error Estimate: {error_estimate:.4e}\")"
   ]
  },
  {
   "cell_type": "markdown",
   "id": "8b024f9c",
   "metadata": {},
   "source": [
    "## F)\n",
    " Change divmax to change the number of divisions. How does the accuracy change on going from 10 to 15 divisions."
   ]
  },
  {
   "cell_type": "code",
   "execution_count": 11,
   "id": "5fbd5749",
   "metadata": {},
   "outputs": [
    {
     "name": "stdout",
     "output_type": "stream",
     "text": [
      "For a = 2.0 and divmax = 10, using 'quad' function:\n",
      "Calculated Period: 1.8540746772715795\n",
      "Error Estimate: 1.7711e-06\n",
      "\n",
      "For a = 2.0 and divmax = 15, using 'quad' function:\n",
      "Calculated Period: 1.8540746772715795\n",
      "Error Estimate: 1.7711e-06\n",
      "\n"
     ]
    }
   ],
   "source": [
    "import numpy as np\n",
    "from scipy.integrate import quad\n",
    "\n",
    "def V(x):\n",
    "    return x**4\n",
    "\n",
    "def calculate_period(amplitude, divmax=10, tolerance=1e-5):\n",
    "    m = 1  # Mass of the particle (given as 1)\n",
    "    \n",
    "    # Define the integrand function\n",
    "    def integrand(x):\n",
    "        return 1 / np.sqrt(V(amplitude) - V(x))\n",
    "    \n",
    "    # Calculate the integral using quad with specified parameters\n",
    "    result, error_estimate = quad(integrand, 0, amplitude, epsrel=tolerance, limit=divmax)\n",
    "    \n",
    "    # Calculate the period\n",
    "    period = np.sqrt(8 * m) * result\n",
    "    \n",
    "    return period, error_estimate\n",
    "\n",
    "# Amplitude 'a' for which you want to calculate the period\n",
    "amplitude = 2.0\n",
    "\n",
    "# List of divmax values to compare\n",
    "divmax_values = [10, 15]\n",
    "\n",
    "# Tolerance for position uncertainty\n",
    "tolerance = 1e-5\n",
    "\n",
    "# Calculate the period and error estimate for each divmax value\n",
    "for divmax in divmax_values:\n",
    "    period, error_estimate = calculate_period(amplitude, divmax, tolerance)\n",
    "    \n",
    "    print(f\"For a = {amplitude} and divmax = {divmax}, using 'quad' function:\")\n",
    "    print(f\"Calculated Period: {period}\")\n",
    "    print(f\"Error Estimate: {error_estimate:.4e}\")\n",
    "    print()"
   ]
  },
  {
   "cell_type": "markdown",
   "id": "8c812bc6",
   "metadata": {},
   "source": [
    "## G) \n",
    "Use the function to make a graph of the period for amplitude ranging from a=0 to a=2."
   ]
  },
  {
   "cell_type": "code",
   "execution_count": 12,
   "id": "974e5d39",
   "metadata": {},
   "outputs": [
    {
     "name": "stderr",
     "output_type": "stream",
     "text": [
      "/var/folders/r0/yh777dl94dbcjct2hckw5p8c0000gn/T/ipykernel_27082/2208268770.py:13: RuntimeWarning: divide by zero encountered in double_scalars\n",
      "  return 1 / np.sqrt(V(amplitude) - V(x))\n",
      "/var/folders/r0/yh777dl94dbcjct2hckw5p8c0000gn/T/ipykernel_27082/2208268770.py:16: IntegrationWarning: Extremely bad integrand behavior occurs at some points of the\n",
      "  integration interval.\n",
      "  result, _ = quad(integrand, 0, amplitude, epsrel=tolerance, limit=divmax)\n"
     ]
    },
    {
     "data": {
      "image/png": "[encoded data removed]",
      "text/plain": [
       "<Figure size 432x288 with 1 Axes>"
      ]
     },
     "metadata": {
      "needs_background": "light"
     },
     "output_type": "display_data"
    }
   ],
   "source": [
    "import numpy as np\n",
    "import matplotlib.pyplot as plt\n",
    "from scipy.integrate import quad\n",
    "\n",
    "def V(x):\n",
    "    return x**4\n",
    "\n",
    "def calculate_period(amplitude, divmax=10, tolerance=1e-5):\n",
    "    m = 1  # Mass of the particle (given as 1)\n",
    "    \n",
    "    # Define the integrand function\n",
    "    def integrand(x):\n",
    "        return 1 / np.sqrt(V(amplitude) - V(x))\n",
    "    \n",
    "    # Calculate the integral using quad with specified parameters\n",
    "    result, _ = quad(integrand, 0, amplitude, epsrel=tolerance, limit=divmax)\n",
    "    \n",
    "    # Calculate the period\n",
    "    period = np.sqrt(8 * m) * result\n",
    "    \n",
    "    return period\n",
    "\n",
    "# Amplitude values ranging from 0 to 2\n",
    "amplitude_values = np.linspace(0, 2, 100)\n",
    "\n",
    "# Calculate the period for each amplitude\n",
    "periods = [calculate_period(amplitude) for amplitude in amplitude_values]\n",
    "\n",
    "# Plot the results\n",
    "plt.plot(amplitude_values, periods)\n",
    "plt.title('Period vs Amplitude')\n",
    "plt.xlabel('Amplitude (a)')\n",
    "plt.ylabel('Period')\n",
    "plt.grid(True)\n",
    "plt.show()"
   ]
  },
  {
   "cell_type": "markdown",
   "id": "e67c014c",
   "metadata": {},
   "source": [
    "<div style=\"text-align: center;\">\n",
    "    <h2><strong> Black Body Radiation </strong></h2>\n",
    "</div>\n",
    "\n",
    "This question is adapted from Prof.Uros Seljak (Berkeley) problem set 1 question 2. For more information, please visit https://phy151-ucb.github.io/seljak-phy151-fall-2018/#course-syllabus\n",
    "\n",
    "\n",
    "The total rate at which energy is radiated by a black body per unit area over all frequencies is \n",
    "\n",
    "$$ W = \\frac{2 \\pi k_B^4T^4}{c^2 {h}^3} \\int _0^\\infty \\frac{x^3}{e^x -1} dx $$\n"
   ]
  },
  {
   "cell_type": "markdown",
   "id": "504af1e3",
   "metadata": {},
   "source": [
    "## A) \n",
    "Write a function to to evaluate the integral in this expression. You will need to change the variables to go from an infinite range to a finite range. What is the change of variable and new functional form? The variable to go from range 0 to $\\infty$ to a finite range of is \n",
    "\n",
    "$$ z = \\frac{x}{1+x} $$\n",
    "or equivalently\n",
    "$$ x = \\frac{z}{1-z} $$\n"
   ]
  },
  {
   "cell_type": "code",
   "execution_count": 30,
   "id": "4678d4c8",
   "metadata": {},
   "outputs": [
    {
     "name": "stdout",
     "output_type": "stream",
     "text": [
      "The result of the integral is: 6.493939402266829\n"
     ]
    },
    {
     "name": "stderr",
     "output_type": "stream",
     "text": [
      "/var/folders/r0/yh777dl94dbcjct2hckw5p8c0000gn/T/ipykernel_46139/2204836384.py:17: RuntimeWarning: overflow encountered in exp\n",
      "  return z**3 / ((1 - z)**5 * (np.exp(z / (1 - z)) - 1))\n"
     ]
    }
   ],
   "source": [
    "import scipy.integrate as spi\n",
    "import numpy as np\n",
    "\n",
    "# Constants\n",
    "k = 1.38064852e-23 \n",
    "h = 6.626e-34\n",
    "pi= np.pi\n",
    "c = 3e8\n",
    "hb = h /2/pi\n",
    "prefactor = k**4/c**2/hb**3/4/pi**2 \n",
    "#True value\n",
    "stfconst = 5.670367e-8\n",
    "\n",
    "def blackbody_var(z):\n",
    "    'Blackbody spectrum after change of variables'\n",
    "\n",
    "    return z**3 / ((1 - z)**5 * (np.exp(z / (1 - z)) - 1))\n",
    "\n",
    "# Integrate the function over the [0, 1] interval\n",
    "result, error = spi.quad(blackbody_var, 0, 1)\n",
    "\n",
    "print(\"The result of the integral is:\", result)"
   ]
  },
  {
   "cell_type": "markdown",
   "id": "f6eb1cfb",
   "metadata": {},
   "source": [
    "## B) \n",
    "According to Stefan's law, the total energy given off by a black-body per unit area per second is given by \n",
    "$$ W = \\sigma T^4 $$. Use the integral to calculate the value of Stefan Boltzmann constant $\\sigma$. Use 'fixed_quad' function to do the integral.   \n"
   ]
  },
  {
   "cell_type": "code",
   "execution_count": 37,
   "id": "81ebc5d3",
   "metadata": {},
   "outputs": [
    {
     "name": "stdout",
     "output_type": "stream",
     "text": [
      "Stefan-Boltzmann constant (σ) = 6.493939402268021\n"
     ]
    },
    {
     "name": "stderr",
     "output_type": "stream",
     "text": [
      "/var/folders/r0/yh777dl94dbcjct2hckw5p8c0000gn/T/ipykernel_46139/2410476507.py:14: RuntimeWarning: overflow encountered in exp\n",
      "  return (x**3 / (np.exp(x) - 1)) / z**2\n"
     ]
    }
   ],
   "source": [
    "import numpy as np\n",
    "from scipy.integrate import fixed_quad\n",
    "\n",
    "# Define the Planck function B(x)\n",
    "def planck_function(x):\n",
    "    return x**3 / (np.exp(x) - 1)\n",
    "\n",
    "# Perform the integral from 0 to 1\n",
    "result1, _ = fixed_quad(planck_function, 0, 1, n=1000)\n",
    "\n",
    "# Define the second part of the integral with the change of variables: z = 1/x\n",
    "def planck_function_z(z):\n",
    "    x = 1 / z\n",
    "    return (x**3 / (np.exp(x) - 1)) / z**2\n",
    "\n",
    "# Perform the integral from 0 to 1 using the change of variables\n",
    "result2, _ = fixed_quad(planck_function_z, 0, 1, n=1000)\n",
    "\n",
    "# Combine the results\n",
    "result = result1 + result2\n",
    "\n",
    "# Calculate the Stefan-Boltzmann constant σ for T = 1\n",
    "T = 1  \n",
    "sigma = result / T**4\n",
    "\n",
    "print(\"Stefan-Boltzmann constant (σ) =\", sigma)"
   ]
  },
  {
   "cell_type": "markdown",
   "id": "e33c4da7",
   "metadata": {},
   "source": [
    "## C) \n",
    "Inbuilt 'quad' function can support an infinite range for integration. Write another function to do the integration from 0 to $\\infty$ and compare your answer."
   ]
  },
  {
   "cell_type": "code",
   "execution_count": 41,
   "id": "1a1be68e",
   "metadata": {},
   "outputs": [
    {
     "name": "stdout",
     "output_type": "stream",
     "text": [
      "Stefan-Boltzmann constant (σ) = -31.380205526015768\n"
     ]
    },
    {
     "name": "stderr",
     "output_type": "stream",
     "text": [
      "/var/folders/r0/yh777dl94dbcjct2hckw5p8c0000gn/T/ipykernel_46139/3819585610.py:6: RuntimeWarning: overflow encountered in exp\n",
      "  return x**3 / (np.exp(x) - 1)\n",
      "/var/folders/r0/yh777dl94dbcjct2hckw5p8c0000gn/T/ipykernel_46139/3819585610.py:15: IntegrationWarning: The integral is probably divergent, or slowly convergent.\n",
      "  sigma, _ = quad(lambda x: planck_integral(x) / T**4, 0, np.inf)\n"
     ]
    }
   ],
   "source": [
    "import numpy as np\n",
    "from scipy.integrate import quad\n",
    "\n",
    "# Define the Planck function B(x)\n",
    "def planck_function(x):\n",
    "    return x**3 / (np.exp(x) - 1)\n",
    "\n",
    "# Define the Planck integral from 0 to infinity\n",
    "def planck_integral(infinity):\n",
    "    result, _ = quad(planck_function, 0, infinity)\n",
    "    return result\n",
    "\n",
    "# Calculate the Stefan-Boltzmann constant σ for T = 1\n",
    "T = 1  \n",
    "sigma, _ = quad(lambda x: planck_integral(x) / T**4, 0, np.inf)\n",
    "\n",
    "print(\"Stefan-Boltzmann constant (σ) =\", sigma)"
   ]
  },
  {
   "attachments": {
    "elliptical_orbit.png": {
     "image/png": "[encoded data removed]"
    }
   },
   "cell_type": "markdown",
   "id": "94d5d239",
   "metadata": {},
   "source": [
    "<div style=\"text-align: center;\">\n",
    "    <h2><strong> Planetary Orbit Integration </strong></h2>\n",
    "</div>\n",
    "\n",
    "This question is adapted from Prof.Uros Seljak (Berkeley) problem set 1 question 4. For more information, please visit https://phy151-ucb.github.io/seljak-phy151-fall-2018/#course-syllabus\n",
    "\n",
    "\n",
    "One of the great achievements in the history of science was the discovery of the laws of J. Kepler, based on many precise measurements of the positions of Mars by Tycho Brahe and himself. The planets move in elliptic orbits with the sun at one of the foci (Kepler’s first law).\n",
    "\n",
    "Newton (Principia 1687) then explained this motion by his general law of gravitational attraction (proportional to $1/r^2$) and the relation between forces and acceleration. This then opened the way for treating arbitrary celestial motions by solving differential equations.\n",
    "\n",
    "\n",
    "![elliptical_orbit.png](attachment:elliptical_orbit.png)\n",
    "\n",
    "\n",
    "Consider the following two-body problem, wherein a single planet orbits around a large star. Stellar mass is much larger than planetary mass, so we choose the star as the center of our coordinate system. Now, consider the planet's two-dimensional elliptical orbit around the star. The position of the planet is given by the coordinates $q = (q_1, q_2)$, with the planet's velocity given by $p = \\dot{q}$.\n",
    "\n",
    "Newton's laws, with a suitable normalization, yield the following ordinary differential equations:\n",
    "\n",
    "$$ \\ddot{q_1} = -\\frac{q_1}{(q_1^2 + q_2^2)^{3/2}},\\ \\ \\ \\ddot{q_2} = -\\frac{q_2}{(q_1^2 + q_2^2)^{3/2}}. $$\n",
    "\n",
    "This is equivalent to a Hamiltonian system with the Hamiltonian:\n",
    "$$ H(p,q) = \\frac{1}{2}(p_1^2 + p_2^2) - \\frac{1}{\\sqrt{q_1^2 + q_2^2}} $$\n",
    "$$p_i = \\dot{q_i}$$\n",
    "\n",
    "We will consider the initial position and velocity of the planet to be:\n",
    "$$ q_1(0) = 1-e,\\ \\ \\ q_2(0) = 0,\\ \\ \\ \\dot{q_1}(0) = 0,\\ \\ \\ \\dot{q_2}(0) = \\sqrt{\\frac{1+e}{1-e}} $$\n",
    "\n",
    "Now determine $q$ as a function of time $t$.\n",
    "\n",
    "\n"
   ]
  },
  {
   "cell_type": "markdown",
   "id": "7f7f8f02",
   "metadata": {},
   "source": [
    "## A) \n",
    " Q1. Using 400000 steps, use the explicit Euler method (Let $f(q) = \\frac{dq}{dt}$. Then, $q(t+\\Delta t) = \\Delta t \\cdot f(q)$ for small $\\Delta t$) and plot the orbit of the planet. Assume $e = 0.6$ and integrate to a final time of $T_f = 200$.\n",
    " \n",
    " $$ q_{n+1} = q_n + \\Delta t \\cdot \\dot{q_n} $$\n",
    "$$ \\dot{q}_{n+1} = p_{n+1} = p_n + \\Delta t \\cdot \\dot{p_n} $$"
   ]
  },
  {
   "cell_type": "code",
   "execution_count": null,
   "id": "4098e53c",
   "metadata": {},
   "outputs": [],
   "source": [
    "import numpy as np\n",
    "import matplotlib.pyplot as plt\n",
    "\n",
    "# Function to compute the derivative\n",
    "def f(q):\n",
    "    return q\n",
    "\n",
    "# Explicit Euler method\n",
    "def explicit_euler(q, dt):\n",
    "    return q + dt * f(q)\n",
    "\n",
    "# Parameters\n",
    "e = 0.6\n",
    "Tf = 200\n",
    "dt = 0.0000001  \n",
    "\n",
    "# Initial conditions\n",
    "q = 1.0\n",
    "\n",
    "# Time array\n",
    "time = np.arange(0, Tf, dt)\n",
    "\n",
    "# Orbit simulation\n",
    "orbit = []\n",
    "for t in time:\n",
    "    orbit.append(q)\n",
    "    q = explicit_euler(q, dt)\n",
    "\n",
    "# Plot\n",
    "plt.plot(time, orbit)\n",
    "plt.title(\"Orbit of the Planet (Explicit Euler Method)\")\n",
    "plt.xlabel(\"Time\")\n",
    "plt.ylabel(\"Position (q)\")\n",
    "plt.show()"
   ]
  },
  {
   "cell_type": "markdown",
   "id": "83a7bbdc",
   "metadata": {},
   "source": [
    "## B) \n",
    "Using 400000 steps, use the symplectic Euler method. \n",
    "\n",
    "$$ p_{n+1} = p_n - \\Delta t H_q(p_{n+1}, q_n) $$\n",
    "$$ q_{n+1} = q_n + \\Delta t H_p(p_{n+1}, q_n) $$\n",
    "or\n",
    "$$ q_{n+1} = q_n + \\Delta t H_p(p_n, q_{n+1}) $$\n",
    "$$ p_{n+1} = p_n - \\Delta t H_p(p_n, q_{n+1}) $$\n",
    "where $H_p$ and $H_q$ denote the column vectors of partial derivatives of the Hamiltonian with respect to $p$ and $q$, respectively. i.e. $H_{p_1} = p_1, H_{q_1} = \\frac{q_1}{(q_1^2 + q_2^2)^{3/2}}, H_{p_2} = p_2, H_{q_2} = \\frac{q_2}{(q_1^2 + q_2^2)^{3/2}}$. \n",
    " \n",
    " \n",
    "Again plot the orbit of the planet. Compare your results in A) and B) by plotting both solutions in the same figure. "
   ]
  },
  {
   "cell_type": "code",
   "execution_count": 25,
   "id": "862a3fd2",
   "metadata": {},
   "outputs": [
    {
     "data": {
      "image/png": "[encoded data removed]",
      "text/plain": [
       "<Figure size 432x288 with 1 Axes>"
      ]
     },
     "metadata": {
      "needs_background": "light"
     },
     "output_type": "display_data"
    }
   ],
   "source": [
    "import numpy as np\n",
    "import matplotlib.pyplot as plt\n",
    "\n",
    "# Function to compute the partial derivative of the Hamiltonian with respect to q\n",
    "def Hq(q, p):\n",
    "    return p\n",
    "\n",
    "# Function to compute the partial derivative of the Hamiltonian with respect to p\n",
    "def Hp(q, p):\n",
    "    return q\n",
    "\n",
    "# Symplectic Euler method\n",
    "def symplectic_euler(q, p, dt):\n",
    "    p = p - dt * Hq(q, p)\n",
    "    q = q + dt * Hp(q, p)\n",
    "    return q, p\n",
    "\n",
    "# Parameters\n",
    "e = 0.6\n",
    "Tf = 200\n",
    "dt = 0.0000001  \n",
    "num_steps = 400000\n",
    "\n",
    "# Initial conditions\n",
    "q = 1.0\n",
    "p = 0.0\n",
    "\n",
    "# Time array\n",
    "time = np.arange(0, num_steps * dt, dt)\n",
    "\n",
    "# Orbit simulation using symplectic Euler\n",
    "orbit = []\n",
    "for _ in range(num_steps):\n",
    "    orbit.append(q)\n",
    "    q, p = symplectic_euler(q, p, dt)\n",
    "\n",
    "# Plotting\n",
    "plt.plot(time, orbit)\n",
    "plt.title(\"Orbit of the Planet (Symplectic Euler Method)\")\n",
    "plt.xlabel(\"Time\")\n",
    "plt.ylabel(\"Position (q)\")\n",
    "plt.show()"
   ]
  }
 ],
 "metadata": {
  "kernelspec": {
   "display_name": "Python 3 (ipykernel)",
   "language": "python",
   "name": "python3"
  },
  "language_info": {
   "codemirror_mode": {
    "name": "ipython",
    "version": 3
   },
   "file_extension": ".py",
   "mimetype": "text/x-python",
   "name": "python",
   "nbconvert_exporter": "python",
   "pygments_lexer": "ipython3",
   "version": "3.9.7"
  }
 },
 "nbformat": 4,
 "nbformat_minor": 5
}
